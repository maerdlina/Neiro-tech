{
  "cells": [
    {
      "cell_type": "markdown",
      "metadata": {
        "id": "view-in-github",
        "colab_type": "text"
      },
      "source": [
        "<a href=\"https://colab.research.google.com/github/maerdlina/Neiro-tech/blob/main/%D0%9B%D0%B0%D0%B1%D0%BE%D1%80%D0%B0%D1%82%D0%BE%D1%80%D0%BD%D0%B0%D1%8F_%D1%80%D0%B0%D0%B1%D0%BE%D1%82%D0%B0_1_sklearn_knn_(5)_(1).ipynb\" target=\"_parent\"><img src=\"https://colab.research.google.com/assets/colab-badge.svg\" alt=\"Open In Colab\"/></a>"
      ]
    },
    {
      "cell_type": "markdown",
      "metadata": {
        "id": "l8p1_7pi1w4a"
      },
      "source": [
        "# k-ближайщих соседей\n",
        "\n",
        "## Лабораторная работа №1"
      ]
    },
    {
      "cell_type": "markdown",
      "metadata": {
        "id": "JLgMVVgY2XJE"
      },
      "source": [
        "\n",
        "---\n",
        "\n",
        "**Впишите в эту ячейку ваши ФИО, группу и вариант**.\n",
        "\n",
        "ФИО:\n",
        "\n",
        "Группа:\n",
        "\n",
        "Вариант:\n",
        "\n",
        "---\n",
        "\n",
        "Далее по ходу ноутбука вам встрется ячейки с кодом, в которых будут комментарии с заданиями, и текстовые ячейки с вопросами, на которые вам необходимо письменно в ноутбуке ответить.\n",
        "\n",
        "Все ячейки необходимо запускать.\n",
        "\n",
        "Данные для вариантов лежат по ссылкам:\n",
        "\n",
        "1. http://labcolor.space/knn-1.csv\n",
        "1. http://labcolor.space/knn-2.csv\n",
        "1. http://labcolor.space/knn-3.csv\n",
        "\n",
        "Скопируйте ссылку для своего варианта."
      ]
    },
    {
      "cell_type": "markdown",
      "metadata": {
        "id": "DcW9pl7N2MwV"
      },
      "source": [
        "### Импортирование модулей для выполнения работы"
      ]
    },
    {
      "cell_type": "code",
      "execution_count": null,
      "metadata": {
        "id": "DSAU6fSomr8e"
      },
      "outputs": [],
      "source": [
        "import numpy as np\n",
        "import pandas as pd\n",
        "import matplotlib.pyplot as plt\n",
        "import seaborn as sns\n",
        "from sklearn.model_selection import train_test_split\n",
        "from sklearn.preprocessing import StandardScaler\n",
        "from sklearn.neighbors import KNeighborsClassifier\n",
        "from sklearn.metrics import ConfusionMatrixDisplay\n",
        "\n",
        "%matplotlib inline\n",
        "%config InlineBackend.figure_format = 'svg'\n",
        "from matplotlib.pyplot import rcParams\n",
        "rcParams['figure.figsize'] = 12, 5"
      ]
    },
    {
      "cell_type": "markdown",
      "metadata": {
        "id": "4GIfToxd8Bs9"
      },
      "source": [
        "Загружаем данные и после выполнения ячейки в выводе должны быть показаны названия столбцов и первые 5 элементов."
      ]
    },
    {
      "cell_type": "code",
      "execution_count": null,
      "metadata": {
        "id": "t71AScV9m-ir"
      },
      "outputs": [],
      "source": [
        "df = pd.read_csv(\"...\", dtype={'target':'category'})  # вставьте в виде строки ссылку в read_csv для загрузки данных\n",
        "df.head()"
      ]
    },
    {
      "cell_type": "markdown",
      "metadata": {
        "id": "Jep2I3Ty9rRR"
      },
      "source": [
        "В слудующих двух ячейках выведется статистика по вашим данным."
      ]
    },
    {
      "cell_type": "code",
      "execution_count": null,
      "metadata": {
        "id": "EEN338UD8XZ4"
      },
      "outputs": [],
      "source": [
        "df.describe(include='number')"
      ]
    },
    {
      "cell_type": "markdown",
      "metadata": {
        "id": "1lTUqLin9zrp"
      },
      "source": [
        "**Сколько объектов есть в вашем наборе данных?**\n",
        "\n",
        "Ответ:\n",
        "\n",
        "**Сколько признаков у ваших объектов?**\n",
        "\n",
        "Ответ:"
      ]
    },
    {
      "cell_type": "code",
      "execution_count": null,
      "metadata": {
        "id": "QfSCAR5Z9Y-s"
      },
      "outputs": [],
      "source": [
        "df.describe(include='category')"
      ]
    },
    {
      "cell_type": "markdown",
      "metadata": {
        "id": "zkmaMLGH-DSn"
      },
      "source": [
        "**Сколько классов в вашем целевом признаке?**\n",
        "\n",
        "Ответ:"
      ]
    },
    {
      "cell_type": "markdown",
      "metadata": {
        "id": "l5wbgdlh-Qii"
      },
      "source": [
        "Теперь оценим распределение по классам"
      ]
    },
    {
      "cell_type": "code",
      "execution_count": null,
      "metadata": {
        "id": "IdWmAN6DwBJL"
      },
      "outputs": [],
      "source": [
        "labels, counts = np.unique(df['target'], return_counts=True)\n",
        "fig, axs = plt.subplots(ncols=1)\n",
        "sns.barplot(x=[str(label) for label in labels], y=counts, ax=axs).set_title(\"Распределение по классам\")\n",
        "plt.show()"
      ]
    },
    {
      "cell_type": "markdown",
      "metadata": {
        "id": "y0ma-le8-m6E"
      },
      "source": [
        "**Равномерное ли у вас распреденеие по классам?**\n",
        "\n",
        "Ответ:"
      ]
    },
    {
      "cell_type": "markdown",
      "metadata": {
        "id": "_5o0WG_r-5J2"
      },
      "source": [
        "## Подготовка данных для работы с моделью"
      ]
    },
    {
      "cell_type": "markdown",
      "metadata": {
        "id": "dzIBoMw4BQD0"
      },
      "source": [
        "Разделим наши признаки и метки классов."
      ]
    },
    {
      "cell_type": "code",
      "execution_count": null,
      "metadata": {
        "id": "eI4i5iHS_UhK"
      },
      "outputs": [],
      "source": [
        "y = df.pop('target')\n",
        "X = df"
      ]
    },
    {
      "cell_type": "markdown",
      "metadata": {
        "id": "xIBKyiro_5QL"
      },
      "source": [
        "Далее используя метод `train_test_split()` разделите данные на обучающую и проверочную части. В тестовую часть выделите 15% ваши данных и укажите random_state для воспроизводимости вашего результата."
      ]
    },
    {
      "cell_type": "code",
      "execution_count": null,
      "metadata": {
        "id": "-Zii7Z5-oTUU"
      },
      "outputs": [],
      "source": [
        "X_train, X_test, y_train, y_test = train_test_split()"
      ]
    },
    {
      "cell_type": "code",
      "execution_count": null,
      "metadata": {
        "id": "SnCbcC8hMKBa"
      },
      "outputs": [],
      "source": [
        "labels, counts = np.unique(y_test, return_counts=True)\n",
        "fig, axs = plt.subplots(ncols=1)\n",
        "sns.barplot(x=[str(label) for label in labels], y=counts, ax=axs).set_title(\"Распределение по классам в тестовой выборке\")\n",
        "plt.show()"
      ]
    },
    {
      "cell_type": "markdown",
      "metadata": {
        "id": "XJ8TVKquAod_"
      },
      "source": [
        "**Равномерное ли у вас распреденеие по классам в тестовой выборке и каким оно должно быть в идеальном случае?**\n",
        "\n",
        "Ответ:"
      ]
    },
    {
      "cell_type": "markdown",
      "metadata": {
        "id": "Ww1eVlUgBmJe"
      },
      "source": [
        "Стандартизация признаков путем вычитания среднего значения и масштабирования до единичной дисперсии."
      ]
    },
    {
      "cell_type": "code",
      "execution_count": null,
      "metadata": {
        "id": "xPkktVmKwapn"
      },
      "outputs": [],
      "source": [
        "scaler = StandardScaler()"
      ]
    },
    {
      "cell_type": "markdown",
      "metadata": {
        "id": "apI-GY1GCQOO"
      },
      "source": [
        "Используя объект `scaler` вычислите среднее и стандартное отклонение для последующего масштабирования признаков с помощью метода `fit`.\n",
        "\n",
        "С помощью метода `transform` преобразуйте ваши данные и сохраните их в новые переменные."
      ]
    },
    {
      "cell_type": "code",
      "execution_count": null,
      "metadata": {
        "id": "2hRjhSpmBtj2"
      },
      "outputs": [],
      "source": [
        "# scaler.fit()\n",
        "# scaler.transform()"
      ]
    },
    {
      "cell_type": "markdown",
      "metadata": {
        "id": "GEAayGQMEhPC"
      },
      "source": [
        "**Для чего требуется предобработка данных?**\n",
        "\n",
        "Ответ:"
      ]
    },
    {
      "cell_type": "markdown",
      "metadata": {
        "id": "ULtbln16Hd4k"
      },
      "source": [
        "## Создание и обучение классификатора"
      ]
    },
    {
      "cell_type": "markdown",
      "metadata": {
        "id": "JLtMiZnvD9E8"
      },
      "source": [
        "Создайте классификатор knn указав аргументы:\n",
        "- n_neighbors - количество соседей\n",
        "- metric - способ засчета расстояний между объектами\n",
        "- algorithm - оставляйте 'brute'"
      ]
    },
    {
      "cell_type": "code",
      "execution_count": null,
      "metadata": {
        "id": "294xXUcHyLIF"
      },
      "outputs": [],
      "source": [
        "clf = KNeighborsClassifier(algorithm='brute')"
      ]
    },
    {
      "cell_type": "markdown",
      "metadata": {
        "id": "XiehK1xPDh4k"
      },
      "source": [
        "С помощью метода fit для объекта обучите вашу модель, для обучения используйте предобработанные данные."
      ]
    },
    {
      "cell_type": "code",
      "execution_count": null,
      "metadata": {
        "id": "TApBSoF1Df7m"
      },
      "outputs": [],
      "source": [
        "clf.fit()"
      ]
    },
    {
      "cell_type": "markdown",
      "metadata": {
        "id": "F7_mhtP3HWJt"
      },
      "source": [
        "## Оценка модели"
      ]
    },
    {
      "cell_type": "markdown",
      "metadata": {
        "id": "yPyanEteGmhb"
      },
      "source": [
        "Проверьте результат работы вашей модели используя медот `score` классификатора, передав в него тестовую часть ваших данных."
      ]
    },
    {
      "cell_type": "code",
      "execution_count": null,
      "metadata": {
        "id": "u_vvWc-Q6d0Q"
      },
      "outputs": [],
      "source": [
        "clf.score()"
      ]
    },
    {
      "cell_type": "markdown",
      "metadata": {
        "id": "fJ4WFR2IGzBa"
      },
      "source": [
        "**Что значит данное число?**\n",
        "\n",
        "Ответ:"
      ]
    },
    {
      "cell_type": "markdown",
      "metadata": {
        "id": "V1RQxWG2Hx5A"
      },
      "source": [
        "Для построения матрицы ошибок, замените комментарии на ваши переменные."
      ]
    },
    {
      "cell_type": "code",
      "execution_count": null,
      "metadata": {
        "id": "4SG9rwGc6u8Q"
      },
      "outputs": [],
      "source": [
        "ConfusionMatrixDisplay.from_estimator(\n",
        "    # Объект вашего классификатора,\n",
        "    # множество тестовых объектов,\n",
        "    # множество тестовых меток классов,\n",
        "    display_labels=np.unique(y),\n",
        "    cmap=plt.cm.Blues,\n",
        "    normalize=None,\n",
        ")"
      ]
    },
    {
      "cell_type": "markdown",
      "metadata": {
        "id": "x3hh6xipH_yR"
      },
      "source": [
        "**Что показывает матрица ошибок?**\n",
        "\n",
        "Ответ:"
      ]
    },
    {
      "cell_type": "markdown",
      "metadata": {
        "id": "rCBAd3aTIWXo"
      },
      "source": [
        "Вернитесь в раздел \"Создание и обучение классификатора\" и попробуйте другие варианты параметров для модели k-ближайших соседей (количество соседей и метрик)"
      ]
    },
    {
      "cell_type": "markdown",
      "metadata": {
        "id": "yp0udBFYI5eB"
      },
      "source": [
        "**Итоговые результаты**\n",
        "\n",
        "Максимальная оценка вашей модели (score):\n",
        "\n",
        "Параметры лучшей модели:\n",
        "\n",
        "- количество соседей:\n",
        "- метрика:"
      ]
    },
    {
      "cell_type": "markdown",
      "metadata": {
        "id": "1GT4AqqdJXG9"
      },
      "source": [
        "## Контрольные вопросы"
      ]
    },
    {
      "cell_type": "markdown",
      "metadata": {
        "id": "ffU8ztApJdni"
      },
      "source": [
        "**Опишите алгоритм работы метода k-ближайших соседей.**\n",
        "\n",
        "Ответ:"
      ]
    },
    {
      "cell_type": "markdown",
      "metadata": {
        "id": "Z0Jjhk1CJo4T"
      },
      "source": [
        "**Чем отличаются l1 и l2 метрики?**\n",
        "\n",
        "Ответ:"
      ]
    }
  ],
  "metadata": {
    "colab": {
      "provenance": [],
      "include_colab_link": true
    },
    "kernelspec": {
      "display_name": "Python 3",
      "name": "python3"
    },
    "language_info": {
      "name": "python"
    }
  },
  "nbformat": 4,
  "nbformat_minor": 0
}